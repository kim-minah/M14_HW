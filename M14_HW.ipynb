{
 "cells": [
  {
   "cell_type": "markdown",
   "id": "bbea800c-241d-42b4-a744-ecaffe13959e",
   "metadata": {},
   "source": [
    "# Metadata\n",
    "\n",
    "```yaml\n",
    "Course:  DS 5100\n",
    "Module:  14 Python Packages\n",
    "Topic:   HW Package Booklover\n",
    "Author:  R.C. Alvarado\n",
    "Date:    11 July 2022\n",
    "```"
   ]
  },
  {
   "cell_type": "markdown",
   "id": "31c46810-4227-4657-8b67-29c43de618ea",
   "metadata": {},
   "source": [
    "# Student Metadata\n",
    "\n",
    "* Name: Minah Kim\n",
    "* NetID: mk7kc"
   ]
  },
  {
   "cell_type": "markdown",
   "id": "1baf08dc-35fe-44f1-bc26-7e1130ee993e",
   "metadata": {},
   "source": [
    "# Instructions\n",
    "\n",
    "Follow the recipe we used in class to package the code you wrote for `HW09` -- `booklover.py` and `booklover_test.py`.\n",
    "\n",
    "Here is the recipe:\n",
    "* Create a new git repo for your package.\n",
    "* Create and edit the required files and directories for your package and move the booklover modules there.\n",
    "* Stage, commit, and push all the files you've created.\n",
    "* Install your package with pip.\n",
    "* Outside of your package dir, write a script to test your method.\n",
    "\n",
    "Put this notebook in your repo. This will allow you to execute bash commands and capture the outpunt directly in the notebook.\n",
    "\n",
    "**TOTAL: 8 POINTS**"
   ]
  },
  {
   "cell_type": "markdown",
   "id": "6e39ba79-49ee-41e8-9e49-23d9d6bac2e0",
   "metadata": {
    "tags": []
   },
   "source": [
    "# Q1\n",
    "\n",
    "(5 points)\n",
    "\n",
    "Show the directory structure of your repo by running this command from the root of your repo:"
   ]
  },
  {
   "cell_type": "code",
   "execution_count": 1,
   "id": "7e6c6607",
   "metadata": {},
   "outputs": [
    {
     "name": "stdout",
     "output_type": "stream",
     "text": [
      ".:\n",
      "total 18\n",
      "-rw-r--r-- 1 mk7kc Domain Users 7958 Jul 11 13:10 M14_HW.ipynb\n",
      "-rw-r--r-- 1 mk7kc Domain Users  129 Jul 11 13:07 book_lover_demo.py\n",
      "drwxr-xr-x 1 mk7kc Domain Users    0 Jul 11 13:09 lovers\n",
      "drwxr-xr-x 1 mk7kc Domain Users    0 Jul 11 13:01 loversPackage.egg-info\n",
      "-rw-r--r-- 1 mk7kc Domain Users  386 Jul 11 12:37 setup.py\n",
      "\n",
      "./lovers:\n",
      "total 26\n",
      "-rw-r--r-- 1 mk7kc Domain Users 11558 Jul 11 12:21 LICENSE\n",
      "-rw-r--r-- 1 mk7kc Domain Users    49 Jul 11 12:26 README.md\n",
      "-rw-r--r-- 1 mk7kc Domain Users    27 Jul 11 13:09 __init__.py\n",
      "drwxr-xr-x 1 mk7kc Domain Users     0 Jul 11 12:43 __pycache__\n",
      "-rw-r--r-- 1 mk7kc Domain Users  1001 Jul 11 09:13 booklover.py\n",
      "-rw-r--r-- 1 mk7kc Domain Users  1935 Jul 11 09:13 booklover_test.py\n",
      "\n",
      "./lovers/__pycache__:\n",
      "total 9\n",
      "-rw-r--r-- 1 mk7kc Domain Users  180 Jul 11 12:43 __init__.cpython-39.pyc\n",
      "-rw-r--r-- 1 mk7kc Domain Users 1371 Jul 11 12:43 booklover.cpython-39.pyc\n",
      "-rw-r--r-- 1 mk7kc Domain Users 2413 Jul 11 12:43 booklover_test.cpython-39.pyc\n",
      "\n",
      "./loversPackage.egg-info:\n",
      "total 5\n",
      "-rw-r--r-- 1 mk7kc Domain Users 266 Jul 11 13:01 PKG-INFO\n",
      "-rw-r--r-- 1 mk7kc Domain Users 256 Jul 11 13:01 SOURCES.txt\n",
      "-rw-r--r-- 1 mk7kc Domain Users   1 Jul 11 13:01 dependency_links.txt\n",
      "-rw-r--r-- 1 mk7kc Domain Users  32 Jul 11 13:01 requires.txt\n",
      "-rw-r--r-- 1 mk7kc Domain Users   7 Jul 11 13:01 top_level.txt\n"
     ]
    }
   ],
   "source": [
    "# conda install posix\n",
    "!ls -lR"
   ]
  },
  {
   "cell_type": "markdown",
   "id": "6b6f288b-05aa-441b-8c73-84b50b3b6844",
   "metadata": {},
   "source": [
    "# Q2\n",
    "\n",
    "(1 point)\n",
    "\n",
    "Put the URL of your GitHub repo here. Just paste it into a Markdown cell."
   ]
  },
  {
   "cell_type": "markdown",
   "id": "4d09d889-6104-4f20-b31c-2d8a72b17693",
   "metadata": {},
   "source": [
    "URL: https://github.com/kim-minah/M14_HW"
   ]
  },
  {
   "cell_type": "markdown",
   "id": "f989dcd1-b1d2-4eb9-8ef6-8ca2d8495260",
   "metadata": {
    "lines_to_next_cell": 0
   },
   "source": [
    "# Q3\n",
    "\n",
    "(1 point)\n",
    "\n",
    "Show the results of installing your package.\n",
    "\n",
    "```bash\n",
    "!pip install -e .\n",
    "```"
   ]
  },
  {
   "cell_type": "code",
   "execution_count": 2,
   "id": "e603a917-863f-4d87-8f31-38a101cb69df",
   "metadata": {},
   "outputs": [
    {
     "name": "stdout",
     "output_type": "stream",
     "text": [
      "Obtaining file:///C:/Users/mk7kc/Documents/GitHub/M14_HW\n",
      "Requirement already satisfied: numpy>=1.11.1 in c:\\users\\mk7kc\\.conda\\envs\\mk7kc\\lib\\site-packages (from loversPackage==1.0.0) (1.21.2)\n",
      "Requirement already satisfied: matplotlib>=1.5.1 in c:\\users\\mk7kc\\.conda\\envs\\mk7kc\\lib\\site-packages (from loversPackage==1.0.0) (3.5.0)\n",
      "Requirement already satisfied: python-dateutil>=2.7 in c:\\users\\mk7kc\\.conda\\envs\\mk7kc\\lib\\site-packages (from matplotlib>=1.5.1->loversPackage==1.0.0) (2.8.2)\n",
      "Requirement already satisfied: kiwisolver>=1.0.1 in c:\\users\\mk7kc\\.conda\\envs\\mk7kc\\lib\\site-packages (from matplotlib>=1.5.1->loversPackage==1.0.0) (1.3.1)\n",
      "Requirement already satisfied: cycler>=0.10 in c:\\users\\mk7kc\\.conda\\envs\\mk7kc\\lib\\site-packages (from matplotlib>=1.5.1->loversPackage==1.0.0) (0.11.0)\n",
      "Requirement already satisfied: pillow>=6.2.0 in c:\\users\\mk7kc\\.conda\\envs\\mk7kc\\lib\\site-packages (from matplotlib>=1.5.1->loversPackage==1.0.0) (8.4.0)\n",
      "Requirement already satisfied: fonttools>=4.22.0 in c:\\users\\mk7kc\\.conda\\envs\\mk7kc\\lib\\site-packages (from matplotlib>=1.5.1->loversPackage==1.0.0) (4.25.0)\n",
      "Requirement already satisfied: packaging>=20.0 in c:\\users\\mk7kc\\.conda\\envs\\mk7kc\\lib\\site-packages (from matplotlib>=1.5.1->loversPackage==1.0.0) (21.3)\n",
      "Requirement already satisfied: pyparsing>=2.2.1 in c:\\users\\mk7kc\\.conda\\envs\\mk7kc\\lib\\site-packages (from matplotlib>=1.5.1->loversPackage==1.0.0) (3.0.4)\n",
      "Requirement already satisfied: six>=1.5 in c:\\users\\mk7kc\\.conda\\envs\\mk7kc\\lib\\site-packages (from python-dateutil>=2.7->matplotlib>=1.5.1->loversPackage==1.0.0) (1.16.0)\n",
      "Installing collected packages: loversPackage\n",
      "  Attempting uninstall: loversPackage\n",
      "    Found existing installation: loversPackage 1.0.0\n",
      "    Uninstalling loversPackage-1.0.0:\n",
      "      Successfully uninstalled loversPackage-1.0.0\n",
      "  Running setup.py develop for loversPackage\n",
      "Successfully installed loversPackage-1.0.0\n"
     ]
    }
   ],
   "source": [
    "!pip install -e ."
   ]
  },
  {
   "cell_type": "markdown",
   "id": "5b1a642e-74f0-43ff-97a3-9ddc7553978e",
   "metadata": {},
   "source": [
    "# Q4\n",
    "\n",
    "(1 point)\n",
    "\n",
    "Create a file outside your repo (one level up) to test your package.\n",
    "\n",
    "Import the package and run it. Specifically, create a BookLover object, add a book, and then print number books read.\n",
    "\n",
    "Show the output of running the file below, using a command like the following:\n",
    "\n",
    "```bash\n",
    "!python ../book_lover_demo.py\n",
    "```"
   ]
  },
  {
   "cell_type": "code",
   "execution_count": 3,
   "id": "5924fca8-6483-4f2b-a33f-6550d1726d6e",
   "metadata": {},
   "outputs": [
    {
     "name": "stdout",
     "output_type": "stream",
     "text": [
      "Welcome book lover\n",
      "1\n"
     ]
    }
   ],
   "source": [
    "!python book_lover_demo.py"
   ]
  }
 ],
 "metadata": {
  "jupytext": {
   "cell_metadata_filter": "-all",
   "main_language": "bash",
   "notebook_metadata_filter": "-all"
  },
  "kernelspec": {
   "display_name": "Python 3 (ipykernel)",
   "language": "python",
   "name": "python3"
  },
  "language_info": {
   "codemirror_mode": {
    "name": "ipython",
    "version": 3
   },
   "file_extension": ".py",
   "mimetype": "text/x-python",
   "name": "python",
   "nbconvert_exporter": "python",
   "pygments_lexer": "ipython3",
   "version": "3.9.7"
  },
  "widgets": {
   "application/vnd.jupyter.widget-state+json": {
    "state": {},
    "version_major": 2,
    "version_minor": 0
   }
  }
 },
 "nbformat": 4,
 "nbformat_minor": 5
}
